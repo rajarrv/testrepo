{
 "cells": [
  {
   "cell_type": "code",
   "execution_count": 1,
   "metadata": {
    "collapsed": false,
    "deletable": true,
    "editable": true
   },
   "outputs": [
    {
     "name": "stdout",
     "output_type": "stream",
     "text": [
      "5.0\n"
     ]
    }
   ],
   "source": [
    "import numpy as np\n",
    "def cal(a):\n",
    "    #print np.percentile(a,15) < a\n",
    "    #print np.percentile(a,85) > a\n",
    "    df = (np.percentile(a,15) < a) & ( a< np.percentile(a,85))\n",
    "    return np.mean([ a[i] for i in range(len(a)) if df[i] ] )\n",
    "    np.mean(l)\n",
    "a =[2,3,4,5,6,3,4,9,6,7]\n",
    "print cal(a)"
   ]
  },
  {
   "cell_type": "code",
   "execution_count": 2,
   "metadata": {
    "collapsed": false,
    "deletable": true,
    "editable": true
   },
   "outputs": [
    {
     "name": "stdout",
     "output_type": "stream",
     "text": [
      "2017JAN\n",
      "/home/rajarrv/work_location/stockdata/day_info/2017JAN/17\n"
     ]
    }
   ],
   "source": [
    "def getfilepath():\n",
    "    import datetime\n",
    "    import os\n",
    "    month={1:'JAN',2:'FEB',3:'MAR',4:'APR',5:'MAY',6:'JUN',7:'JUL',\n",
    "               8:'AUG',9:'SEP',10:'OCT',11:'NOV',12:'DEC'}\n",
    "    yr =str(datetime.datetime.now().year)+\\\n",
    "                month.get(datetime.datetime.now().month)\n",
    "    day=str(datetime.datetime.now().day)\n",
    "    print yr\n",
    "    filepath='/home/rajarrv/work_location/stockdata/day_info/'\n",
    "    filepath+=yr+'/'+day\n",
    "    if not os.path.exists(filepath):\n",
    "        os.makedirs(filepath)\n",
    "    return filepath\n",
    "print getfilepath()"
   ]
  },
  {
   "cell_type": "code",
   "execution_count": 3,
   "metadata": {
    "collapsed": false,
    "deletable": true,
    "editable": true
   },
   "outputs": [
    {
     "name": "stdout",
     "output_type": "stream",
     "text": [
      "(<type 'exceptions.IndexError'>, IndexError('list index out of range',), <traceback object at 0x7fe3bedfdb00>)\n",
      ".~lock.ACE.csv#\n",
      "(<type 'exceptions.IndexError'>, IndexError('list index out of range',), <traceback object at 0x7fe3bedc4f80>)\n",
      ".~lock.TATAMOTORS.csv#\n",
      "(<type 'exceptions.ValueError'>, ValueError('cannot convert float NaN to integer',), <traceback object at 0x7fe3be9d0b90>)\n",
      "CAPTRUST.csv\n",
      "done\n"
     ]
    },
    {
     "name": "stderr",
     "output_type": "stream",
     "text": [
      "/usr/lib/python2.7/dist-packages/numpy/core/_methods.py:55: RuntimeWarning: Mean of empty slice.\n",
      "  warnings.warn(\"Mean of empty slice.\", RuntimeWarning)\n",
      "/usr/lib/python2.7/dist-packages/numpy/core/_methods.py:67: RuntimeWarning: invalid value encountered in double_scalars\n",
      "  ret = ret.dtype.type(ret / rcount)\n"
     ]
    }
   ],
   "source": [
    "import os\n",
    "import csv\n",
    "base_path = '/home/rajarrv/work_location/stockdata/re_org'\n",
    "stks = []\n",
    "for stk in os.listdir(base_path):\n",
    "    try:\n",
    "        with open(os.path.join(base_path,stk), 'rU') as f:\n",
    "            data = list(list(rec) for rec in csv.reader(f, delimiter=','))\n",
    "            data = data[1:]\n",
    "        #if data[-1][10] =='17-MAY-2017':\n",
    "            datavol = [int(ecdp[8]) for ecdp in data[-30:] ]\n",
    "            dayrange = [ abs(float(ecdp[3]) - float(ecdp[4])) for ecdp in data[-30:] ]\n",
    "            #stks.append([data[-1][0] , int(data[-1][8]) ,abs(float(data[-1][3]) - float(data[-1][4]))]) \n",
    "            stks.append([data[-1][0] ,data[-1][5], int(cal(datavol)) ,cal(dayrange)]) \n",
    "    except:\n",
    "        import sys\n",
    "        print sys.exc_info()\n",
    "        print stk\n",
    "print 'done'        "
   ]
  },
  {
   "cell_type": "code",
   "execution_count": 4,
   "metadata": {
    "collapsed": false,
    "deletable": true,
    "editable": true
   },
   "outputs": [
    {
     "name": "stdout",
     "output_type": "stream",
     "text": [
      "1532\n"
     ]
    }
   ],
   "source": [
    "vl = [stk[1] for stk in stks ]\n",
    "vl.sort()\n",
    "print len(vl)"
   ]
  },
  {
   "cell_type": "code",
   "execution_count": 11,
   "metadata": {
    "collapsed": false,
    "deletable": true,
    "editable": true
   },
   "outputs": [
    {
     "name": "stdout",
     "output_type": "stream",
     "text": [
      "1532\n",
      "365974.2\n",
      "9.38075\n",
      "137\n",
      "77\n"
     ]
    },
    {
     "data": {
      "text/plain": [
       "\"'SUNPHARMA','VEDL','SBIN','GSFC','NMDC','POWERGRID','BANKBARODA','UNIONBANK','ORIENTBANK','MANAPPURAM','JISLJALEQS','NCC','SINTEX','HCC','SUNILHITEC','RENUKA','INFY','AXISBANK','INDIACEM','MMTC','JSWENERGY','ICICIBANK','FEDERALBNK','TATASTEEL','ADANIPORTS','CANBK','NTPC','IBREALEST','BANKINDIA','ALBK','NHPC','JPASSOCIAT','BHARATFIN','ITC','ONGC','KTKBANK','JINDALSTEL','BHEL','IDEA','HDIL','DISHTV','SAIL','IFCI','ALOKTEXT','TATAMOTORS','BHARTIARTL','ENGINERSIN','ASHOKLEY','SOUTHBANK','DATAMATICS','TV18BRDCST','RELIANCE','HINDALCO','RCOM','HINDPETRO','IOC','L%26TFH','SUZLON','YESBANK','HDFC','COALINDIA','APOLLOTYRE','DELTACORP','PFC','RECLTD','DLF','PNB','NATIONALUM','HCL-INSYS','TATAPOWER','IDFC','CROMPGREAV','IDFCBANK','ADANIPOWER','BAJAJHIND','GMRINFRA','UNITECH','\""
      ]
     },
     "execution_count": 11,
     "metadata": {},
     "output_type": "execute_result"
    }
   ],
   "source": [
    "print len(stks)\n",
    "stks.sort(key=lambda x: x[-1], reverse=True)\n",
    "#stks\n",
    "import pandas as pd\n",
    "stkmap = pd.DataFrame(stks , columns=['Script','price','volume','dayrange'])\n",
    "print stkmap.volume.quantile(.80)\n",
    "print stkmap.dayrange.quantile(.70)\n",
    "chk = stkmap[(stkmap.volume > stkmap.volume.quantile(.75) ) & (stkmap.dayrange > 5)]#stkmap.dayrange.quantile(.70) )]\n",
    "#stkmap[stkmap.dayrange > stkmap.dayrange.quantile(.70)]\n",
    "len(stkmap)\n",
    "print len(chk)\n",
    "chk.to_csv('/home/rajarrv/work_location/stockdata/test_normal1.csv')\n",
    "peakquat = stkmap[(stkmap.volume > stkmap.volume.quantile(.95) )]\n",
    "print len(peakquat)\n",
    "temp =\"'\"\n",
    "for dc in peakquat.Script:\n",
    "    temp+= dc.replace('&','%26')+\"','\"\n",
    "temp"
   ]
  },
  {
   "cell_type": "code",
   "execution_count": 15,
   "metadata": {
    "collapsed": false,
    "deletable": true,
    "editable": true
   },
   "outputs": [
    {
     "name": "stdout",
     "output_type": "stream",
     "text": [
      "138\n",
      "Script\n",
      "price\n",
      "volume\n",
      "dayrange\n",
      "30\n",
      "['PETRONET', 'HINDZINC', 'VEDL', 'CAIRN', 'TECHM', 'AXISBANK', 'ZEEL', 'TATASTEEL', 'ADANIPORTS', 'CANBK', 'JETAIRWAYS', 'MOTHERSUMI', 'DHFL', 'BHARTIARTL', 'NBCC', 'ENGINERSIN', 'SWANENERGY', 'GAIL', 'ABAN', 'HINDPETRO', 'IOC', 'TATAMTRDVR', 'JSWSTEEL', 'JUSTDIAL', 'RELCAPITAL', 'M&MFIN', 'ARVIND', 'INFRATEL', 'DATAMATICS', 'COALINDIA']\n"
     ]
    }
   ],
   "source": [
    "#tt = stkmap[(stkmap.price <500 )]\n",
    "print len(chk)\n",
    "for fstk in chk:\n",
    "    print fstk\n",
    "#chk.price \n",
    "#tt1 = chk[(chk.price <500 )]\n",
    "ript =[]\n",
    "for idx ,row in chk.iterrows():\n",
    "    #print row\n",
    "    if float(row.price) <500 and int(row.volume)>=1000000:\n",
    "        #print row.Script , row.price,row.volume ,row.dayrange #type(row) ,len(row)\n",
    "        ript.append(row.Script)\n",
    "ript\n",
    "print len(ript)\n",
    "print ript"
   ]
  },
  {
   "cell_type": "code",
   "execution_count": 8,
   "metadata": {
    "collapsed": false,
    "deletable": true,
    "editable": true
   },
   "outputs": [
    {
     "name": "stdout",
     "output_type": "stream",
     "text": [
      "['DRREDDY', '3168.45', 312366, 71.112499999999983]\n"
     ]
    }
   ],
   "source": [
    "for ec in stks:\n",
    "    if ec[0] == 'DRREDDY':\n",
    "        print ec"
   ]
  },
  {
   "cell_type": "code",
   "execution_count": null,
   "metadata": {
    "collapsed": false,
    "deletable": true,
    "editable": true
   },
   "outputs": [],
   "source": [
    "'TATASTEEL','VEDL','SBIN','UNIONBANK','POWERGRID','JISLJALEQS','NCC',\n",
    "'HCC','INFY','AXISBANK','INDIACEM','MANAPPURAM','MMTC','JSWENERGY','FEDERALBNK','GTLINFRA',\n",
    "'ADANIPORTS','CANBK','ICICIBANK','NTPC','BANKINDIA','IBREALEST','ALBK','NHPC','JPASSOCIAT',\n",
    "'ONGC','SAIL','IFCI','BHARATFIN','ITC','KTKBANK','JINDALSTEL','IDEA','HDIL','ALOKTEXT','BHARTIARTL',\n",
    "'ENGINERSIN','ASHOKLEY','SOUTHBANK','COALINDIA','HINDALCO','RCOM','RELIANCE','BPCL','HINDPETRO','IOC',\n",
    "'L&TFH','SUZLON','SUNTV','RECLTD','HCL-INSYS','IDFC','YESBANK','HDFC','SUNPHARMA','TATAMOTORS',\n",
    "'RELCAPITAL','DATAMATICS','APOLLOTYRE','NMDC'"
   ]
  }
 ],
 "metadata": {
  "kernelspec": {
   "display_name": "Python 2",
   "language": "python",
   "name": "python2"
  },
  "language_info": {
   "codemirror_mode": {
    "name": "ipython",
    "version": 2
   },
   "file_extension": ".py",
   "mimetype": "text/x-python",
   "name": "python",
   "nbconvert_exporter": "python",
   "pygments_lexer": "ipython2",
   "version": "2.7.6"
  }
 },
 "nbformat": 4,
 "nbformat_minor": 0
}
